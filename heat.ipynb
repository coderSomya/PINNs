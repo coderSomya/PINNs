{
 "cells": [
  {
   "cell_type": "code",
   "execution_count": 2,
   "id": "d58c7247",
   "metadata": {},
   "outputs": [
    {
     "name": "stdout",
     "output_type": "stream",
     "text": [
      "Defaulting to user installation because normal site-packages is not writeable\n",
      "Requirement already satisfied: deepxde in c:\\users\\somya\\appdata\\local\\packages\\pythonsoftwarefoundation.python.3.10_qbz5n2kfra8p0\\localcache\\local-packages\\python312\\site-packages (1.12.1)\n",
      "Requirement already satisfied: matplotlib in c:\\users\\somya\\appdata\\local\\packages\\pythonsoftwarefoundation.python.3.10_qbz5n2kfra8p0\\localcache\\local-packages\\python312\\site-packages (from deepxde) (3.9.2)\n",
      "Requirement already satisfied: numpy in c:\\users\\somya\\appdata\\local\\packages\\pythonsoftwarefoundation.python.3.10_qbz5n2kfra8p0\\localcache\\local-packages\\python312\\site-packages (from deepxde) (2.1.1)\n",
      "Requirement already satisfied: scikit-learn in c:\\users\\somya\\appdata\\local\\packages\\pythonsoftwarefoundation.python.3.10_qbz5n2kfra8p0\\localcache\\local-packages\\python312\\site-packages (from deepxde) (1.5.2)\n",
      "Requirement already satisfied: scikit-optimize>=0.9.0 in c:\\users\\somya\\appdata\\local\\packages\\pythonsoftwarefoundation.python.3.10_qbz5n2kfra8p0\\localcache\\local-packages\\python312\\site-packages (from deepxde) (0.10.2)\n",
      "Requirement already satisfied: scipy in c:\\users\\somya\\appdata\\local\\packages\\pythonsoftwarefoundation.python.3.10_qbz5n2kfra8p0\\localcache\\local-packages\\python312\\site-packages (from deepxde) (1.14.1)\n",
      "Requirement already satisfied: joblib>=0.11 in c:\\users\\somya\\appdata\\local\\packages\\pythonsoftwarefoundation.python.3.10_qbz5n2kfra8p0\\localcache\\local-packages\\python312\\site-packages (from scikit-optimize>=0.9.0->deepxde) (1.4.2)\n",
      "Requirement already satisfied: pyaml>=16.9 in c:\\users\\somya\\appdata\\local\\packages\\pythonsoftwarefoundation.python.3.10_qbz5n2kfra8p0\\localcache\\local-packages\\python312\\site-packages (from scikit-optimize>=0.9.0->deepxde) (24.9.0)\n",
      "Requirement already satisfied: packaging>=21.3 in c:\\users\\somya\\appdata\\local\\packages\\pythonsoftwarefoundation.python.3.10_qbz5n2kfra8p0\\localcache\\local-packages\\python312\\site-packages (from scikit-optimize>=0.9.0->deepxde) (24.1)\n",
      "Requirement already satisfied: threadpoolctl>=3.1.0 in c:\\users\\somya\\appdata\\local\\packages\\pythonsoftwarefoundation.python.3.10_qbz5n2kfra8p0\\localcache\\local-packages\\python312\\site-packages (from scikit-learn->deepxde) (3.5.0)\n",
      "Requirement already satisfied: contourpy>=1.0.1 in c:\\users\\somya\\appdata\\local\\packages\\pythonsoftwarefoundation.python.3.10_qbz5n2kfra8p0\\localcache\\local-packages\\python312\\site-packages (from matplotlib->deepxde) (1.3.0)\n",
      "Requirement already satisfied: cycler>=0.10 in c:\\users\\somya\\appdata\\local\\packages\\pythonsoftwarefoundation.python.3.10_qbz5n2kfra8p0\\localcache\\local-packages\\python312\\site-packages (from matplotlib->deepxde) (0.12.1)\n",
      "Requirement already satisfied: fonttools>=4.22.0 in c:\\users\\somya\\appdata\\local\\packages\\pythonsoftwarefoundation.python.3.10_qbz5n2kfra8p0\\localcache\\local-packages\\python312\\site-packages (from matplotlib->deepxde) (4.54.1)\n",
      "Requirement already satisfied: kiwisolver>=1.3.1 in c:\\users\\somya\\appdata\\local\\packages\\pythonsoftwarefoundation.python.3.10_qbz5n2kfra8p0\\localcache\\local-packages\\python312\\site-packages (from matplotlib->deepxde) (1.4.7)\n",
      "Requirement already satisfied: pillow>=8 in c:\\users\\somya\\appdata\\local\\packages\\pythonsoftwarefoundation.python.3.10_qbz5n2kfra8p0\\localcache\\local-packages\\python312\\site-packages (from matplotlib->deepxde) (10.4.0)\n",
      "Requirement already satisfied: pyparsing>=2.3.1 in c:\\users\\somya\\appdata\\local\\packages\\pythonsoftwarefoundation.python.3.10_qbz5n2kfra8p0\\localcache\\local-packages\\python312\\site-packages (from matplotlib->deepxde) (3.1.4)\n",
      "Requirement already satisfied: python-dateutil>=2.7 in c:\\users\\somya\\appdata\\local\\packages\\pythonsoftwarefoundation.python.3.10_qbz5n2kfra8p0\\localcache\\local-packages\\python312\\site-packages (from matplotlib->deepxde) (2.9.0.post0)\n",
      "Requirement already satisfied: PyYAML in c:\\users\\somya\\appdata\\local\\packages\\pythonsoftwarefoundation.python.3.10_qbz5n2kfra8p0\\localcache\\local-packages\\python312\\site-packages (from pyaml>=16.9->scikit-optimize>=0.9.0->deepxde) (6.0.2)\n",
      "Requirement already satisfied: six>=1.5 in c:\\users\\somya\\appdata\\local\\packages\\pythonsoftwarefoundation.python.3.10_qbz5n2kfra8p0\\localcache\\local-packages\\python312\\site-packages (from python-dateutil>=2.7->matplotlib->deepxde) (1.16.0)\n"
     ]
    }
   ],
   "source": [
    "!python -m venv deepxde_env\n",
    "!deepxde_env\\Scripts\\activate\n",
    "!pip install deepxde"
   ]
  },
  {
   "cell_type": "code",
   "execution_count": 5,
   "id": "c211e37a",
   "metadata": {},
   "outputs": [
    {
     "name": "stdout",
     "output_type": "stream",
     "text": [
      "Name: DeepXDE\n",
      "Version: 1.12.1\n",
      "Summary: A library for scientific machine learning\n",
      "Home-page: https://github.com/lululxvi/deepxde\n",
      "Author: \n",
      "Author-email: Lu Lu <lululxvi@gmail.com>\n",
      "License: LGPL-2.1\n",
      "Location: C:\\Users\\Somya\\AppData\\Local\\Packages\\PythonSoftwareFoundation.Python.3.10_qbz5n2kfra8p0\\LocalCache\\local-packages\\Python312\\site-packages\n",
      "Requires: matplotlib, numpy, scikit-learn, scikit-optimize, scipy\n",
      "Required-by: \n"
     ]
    }
   ],
   "source": [
    "!python3.12 -m pip show deepxde"
   ]
  },
  {
   "cell_type": "code",
   "execution_count": 9,
   "id": "b3a9b4b8",
   "metadata": {},
   "outputs": [
    {
     "ename": "ModuleNotFoundError",
     "evalue": "No module named 'deepxde'",
     "output_type": "error",
     "traceback": [
      "\u001b[1;31m-----------------------------------------------------\u001b[0m",
      "\u001b[1;31mModuleNotFoundError\u001b[0m Traceback (most recent call last)",
      "Input \u001b[1;32mIn [9]\u001b[0m, in \u001b[0;36m<cell line: 4>\u001b[1;34m()\u001b[0m\n\u001b[0;32m      1\u001b[0m \u001b[38;5;28;01mfrom\u001b[39;00m \u001b[38;5;21;01msympy\u001b[39;00m \u001b[38;5;28;01mimport\u001b[39;00m \u001b[38;5;241m*\u001b[39m\n\u001b[0;32m      2\u001b[0m \u001b[38;5;28;01mfrom\u001b[39;00m \u001b[38;5;21;01msympy\u001b[39;00m\u001b[38;5;21;01m.\u001b[39;00m\u001b[38;5;21;01mgeometry\u001b[39;00m \u001b[38;5;28;01mimport\u001b[39;00m \u001b[38;5;241m*\u001b[39m\n\u001b[1;32m----> 4\u001b[0m \u001b[38;5;28;01mimport\u001b[39;00m \u001b[38;5;21;01mdeepxde\u001b[39;00m \u001b[38;5;28;01mas\u001b[39;00m \u001b[38;5;21;01mdde\u001b[39;00m\n",
      "\u001b[1;31mModuleNotFoundError\u001b[0m: No module named 'deepxde'"
     ]
    }
   ],
   "source": [
    "from sympy import *\n",
    "from sympy.geometry import *\n",
    "\n",
    "import deepxde as dde"
   ]
  },
  {
   "cell_type": "markdown",
   "id": "ae6a06fb",
   "metadata": {},
   "source": [
    "```du/dt = alpha*d2u/dx2```\n",
    "```alpha = 0.3\n",
    "-1<=x<=1\n",
    "0<t<1```"
   ]
  },
  {
   "cell_type": "code",
   "execution_count": 4,
   "id": "0a11f6f7",
   "metadata": {},
   "outputs": [
    {
     "ename": "NameError",
     "evalue": "name 'dde' is not defined",
     "output_type": "error",
     "traceback": [
      "\u001b[1;31m-----------------------------------------------------\u001b[0m",
      "\u001b[1;31mNameError\u001b[0m           Traceback (most recent call last)",
      "Input \u001b[1;32mIn [4]\u001b[0m, in \u001b[0;36m<cell line: 1>\u001b[1;34m()\u001b[0m\n\u001b[1;32m----> 1\u001b[0m geom \u001b[38;5;241m=\u001b[39m \u001b[43mdde\u001b[49m\u001b[38;5;241m.\u001b[39mgeometry\u001b[38;5;241m.\u001b[39mInterval(\u001b[38;5;241m-\u001b[39m\u001b[38;5;241m1\u001b[39m,\u001b[38;5;241m1\u001b[39m)\n\u001b[0;32m      2\u001b[0m timedomain \u001b[38;5;241m=\u001b[39m dde\u001b[38;5;241m.\u001b[39mgeometry\u001b[38;5;241m.\u001b[39mTimedomain(\u001b[38;5;241m0\u001b[39m,\u001b[38;5;241m1\u001b[39m)\n\u001b[0;32m      3\u001b[0m geotime \u001b[38;5;241m=\u001b[39m dde\u001b[38;5;241m.\u001b[39mgeometry\u001b[38;5;241m.\u001b[39mGeometryXTime(geom, timedomain)\n",
      "\u001b[1;31mNameError\u001b[0m: name 'dde' is not defined"
     ]
    }
   ],
   "source": [
    "geom = dde.geometry.Interval(-1,1)\n",
    "timedomain = dde.geometry.Timedomain(0,1)\n",
    "geotime = dde.geometry.GeometryXTime(geom, timedomain)"
   ]
  },
  {
   "cell_type": "code",
   "execution_count": 13,
   "id": "9dfb4304",
   "metadata": {},
   "outputs": [],
   "source": [
    "alpha = 0.3"
   ]
  },
  {
   "cell_type": "code",
   "execution_count": 14,
   "id": "6ae87d63",
   "metadata": {},
   "outputs": [],
   "source": [
    "def pde(x,y):\n",
    "    dy_t = dde.grad.jacobian(y,x,j=1)\n",
    "    dy_xx = dde.grad.hessian(y,x,j=0)\n",
    "    \n",
    "    return (\n",
    "    dy_t,\n",
    "    - dy_xx*alpha\n",
    "    )"
   ]
  },
  {
   "cell_type": "code",
   "execution_count": 15,
   "id": "453d1fc9",
   "metadata": {},
   "outputs": [],
   "source": [
    "def func(x):\n",
    "    return np.sin(np.pi *x[:,0:1]*np.exp(-x[:,1:]))"
   ]
  },
  {
   "cell_type": "code",
   "execution_count": 9,
   "id": "d6b5183a",
   "metadata": {},
   "outputs": [
    {
     "ename": "SyntaxError",
     "evalue": "invalid syntax (2196850942.py, line 1)",
     "output_type": "error",
     "traceback": [
      "\u001b[1;36m  Input \u001b[1;32mIn [9]\u001b[1;36m\u001b[0m\n\u001b[1;33m    bc = dde.DirichletBC(geotime, func, lambda _, on_boundary = on_boundary)\u001b[0m\n\u001b[1;37m                                                                           ^\u001b[0m\n\u001b[1;31mSyntaxError\u001b[0m\u001b[1;31m:\u001b[0m invalid syntax\n"
     ]
    }
   ],
   "source": [
    "bc = dde.DirichletBC(geotime, func, lambda _, on_boundary = on_boundary)\n",
    "ic = dde.IC(geotime, func, lambda _, on_initial: on_initial)"
   ]
  },
  {
   "cell_type": "code",
   "execution_count": null,
   "id": "16b76ab0",
   "metadata": {},
   "outputs": [],
   "source": [
    "data = dde.data.TimePDE(\n",
    "geotime,\n",
    "pde,\n",
    "[bc,ic],\n",
    "num_domain=4000,\n",
    "num_boundary=2000,\n",
    "num_initial=1000,\n",
    "solution=func,\n",
    "num_test=1000\n",
    ")"
   ]
  },
  {
   "cell_type": "code",
   "execution_count": 10,
   "id": "6367cf39",
   "metadata": {},
   "outputs": [],
   "source": [
    "layer_size = [2] + [32]*3 + [1]\n",
    "activation = \"tanh\"\n",
    "net = dde.maps.FNN(layer_size, activation, initializer)"
   ]
  },
  {
   "cell_type": "code",
   "execution_count": null,
   "id": "8a5088b1",
   "metadata": {},
   "outputs": [],
   "source": [
    "initializer = \"Glorot uniform\"\n",
    "optimizer = \"adam\""
   ]
  },
  {
   "cell_type": "code",
   "execution_count": null,
   "id": "f10d078a",
   "metadata": {},
   "outputs": [],
   "source": [
    "model = dde.Model(data, net)\n",
    "model.compile(optimizer, lr=0.001, metrics=[\"l2 relative error\"])"
   ]
  },
  {
   "cell_type": "code",
   "execution_count": null,
   "id": "37d74557",
   "metadata": {},
   "outputs": [],
   "source": [
    "losshistory, train_state = model.train(epochs=10000)"
   ]
  },
  {
   "cell_type": "code",
   "execution_count": null,
   "id": "3c392124",
   "metadata": {},
   "outputs": [],
   "source": [
    "x_data = np.linspace(-1,1,num=100)\n",
    "t_data = np.linspace(0,1, num=100)\n",
    "\n",
    "test_x, test_y = np.meshgrid(x_data,t_data)\n",
    "test_domain = np.vstack((np.ravel(test_x), np.ravel(test_t))).T\n",
    "\n",
    "predicted_solution = model.predict(test_domain)\n",
    "residual = model.predict(test_domain, operator=pde)"
   ]
  },
  {
   "cell_type": "code",
   "execution_count": null,
   "id": "9fd89fbe",
   "metadata": {},
   "outputs": [],
   "source": []
  },
  {
   "cell_type": "code",
   "execution_count": null,
   "id": "2df0a8a7",
   "metadata": {},
   "outputs": [],
   "source": []
  }
 ],
 "metadata": {
  "kernelspec": {
   "display_name": "Python 3 (ipykernel)",
   "language": "python",
   "name": "python3"
  },
  "language_info": {
   "codemirror_mode": {
    "name": "ipython",
    "version": 3
   },
   "file_extension": ".py",
   "mimetype": "text/x-python",
   "name": "python",
   "nbconvert_exporter": "python",
   "pygments_lexer": "ipython3",
   "version": "3.10.11"
  }
 },
 "nbformat": 4,
 "nbformat_minor": 5
}
